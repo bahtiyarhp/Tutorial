{
 "cells": [
  {
   "cell_type": "markdown",
   "metadata": {},
   "source": [
    "# SCRAPING DATA BUKU AMAZONE"
   ]
  },
  {
   "cell_type": "markdown",
   "metadata": {},
   "source": [
    "Dalam permasalahan sentimen analysis terkadang kita kesulitan dalam mengambil data dari web. Tidak mungkin kita mengakses data via database. Hal yang mungkin kita bisa lakukan adalah mengambil data dari web. Didalam python ada berbagai macam library yang dibutuhkan untuk mengambil data dari web salah satunya dengan bantuan lib \"Beautifull Soup\". Oke mari kita persiapkan.. "
   ]
  },
  {
   "cell_type": "markdown",
   "metadata": {},
   "source": [
    "# 1. Persiapakan Library Untuk Mengakses http"
   ]
  },
  {
   "cell_type": "markdown",
   "metadata": {},
   "source": [
    "Pastikan terlebih dahulu versi pyhton yang akan digunakan, pyton versi 2 atau 3, Pada tutorial kali ini jenis python yang digunakan adalah versi 3. Dalam hal ini kita membuthkan 2 buah library \"urlib3\" dan \"certif\". Library \"urllib3\" digunakan untuk mengakses http:// sedangkan \"certifi\" merupakan librar tambahan yang digunakan untuk mengakses https:// . Baik dalam tutorial ini kita akan mencoba mengakses data ulasan dari sebuah buku di amazon.com. Kita akan mencoba scaping data dari laman ini https://goo.gl/wjYyDN "
   ]
  },
  {
   "cell_type": "code",
   "execution_count": 23,
   "metadata": {},
   "outputs": [
    {
     "name": "stdout",
     "output_type": "stream",
     "text": [
      "b'!doctype html><!--[if lt IE 7]><html class=\"a-no-js a-lt-ie10 a-lt-ie9 a-lt-ie8 a-lt-ie7 a-ie6\" data-19ax5a9jf=\"dingo\"><![endif]--><!--[if IE 7]><html class=\"a-no-js a-lt-ie10 a-lt-ie9 a-lt-ie8 a-ie7\" data-19ax5a9jf=\"dingo\"><![endif]--><!--[if IE 8]><html class=\"a-no-js a-lt-ie10 a-lt-ie9 a-ie8\" data-19ax5a9jf=\"dingo\"><![endif]--><!--[if IE 9]><html class=\"a-no-js a-lt-ie10 a-ie9\" data-19ax5a9jf=\"dingo\"><![endif]--><!--[if !IE]><!--><html class=\"a-no-js\" data-19ax5a9jf=\"dingo\"><!--<![endif]--><'\n"
     ]
    }
   ],
   "source": [
    "import urllib3 \n",
    "import certifi\n",
    "http = urllib3.PoolManager(cert_reqs='CERT_REQUIRED', ca_certs=certifi.where())\n",
    "html = http.request('GET','https://www.amazon.com/Sherlock-Holmes-Complete-Novels-Stories/product-reviews/0553212419/ref=cm_cr_dp_d_show_all_btm?ie=UTF8&reviewerType=all_reviews')\n",
    "#menampilkan karakter 1 sampai dengan ke 1000 (opsional untuk memeriksan apakah proses berjalan dengan normal)\n",
    "print(html.data[1:500])\n"
   ]
  },
  {
   "cell_type": "markdown",
   "metadata": {},
   "source": [
    "# 2 Import BeautifulSoup"
   ]
  },
  {
   "cell_type": "markdown",
   "metadata": {},
   "source": [
    "Libarary BeuatifulSoup kan mengubah file html kedalam sebuah class 'bs4.BeautifulSoup'. Dengan metode tersebut kita dapat mencari konten dari html dengan mudah. Biasayan librari ini sudah terinstall jika kalian menginstall anaconda. Jika sudah belum menginstall anda bisa menggunkan pip atau conda install"
   ]
  },
  {
   "cell_type": "code",
   "execution_count": 24,
   "metadata": {},
   "outputs": [
    {
     "name": "stdout",
     "output_type": "stream",
     "text": [
      "<class 'bs4.BeautifulSoup'>\n",
      "!DOCTYPE html>\n",
      "<!--[if lt IE 7]><html class=\"a-no-js a-lt-ie10 a-lt-ie9 a-lt-ie8 a-lt-ie7 a-ie6\" data-19ax5a9jf=\"dingo\"><![endif]-->\n",
      "<!--[if IE 7]><html class=\"a-no-js a-lt-ie10 a-lt-ie9 a-lt-ie8 a-ie7\" data-19ax5a9jf=\"dingo\"><![endif]-->\n",
      "<!--[if IE 8]><html class=\"a-no-js a-lt-ie10 a-lt-ie9 a-ie8\" data-19ax5a9jf=\"dingo\"><![endif]-->\n",
      "<!--[if IE 9]><html class=\"a-no-js a-lt-ie10 a-ie9\" data-19ax5a9jf=\"dingo\"><![endif]-->\n",
      "<!--[if !IE]><!-->\n",
      "<html class=\"a-no-js\" data-19ax5a9jf=\"dingo\">\n",
      " <!--<![en\n"
     ]
    }
   ],
   "source": [
    "from bs4 import BeautifulSoup\n",
    "soup = BeautifulSoup(html.data,\"lxml\")\n",
    "print(type(soup))\n",
    "print(soup.prettify()[1:500])"
   ]
  },
  {
   "cell_type": "markdown",
   "metadata": {},
   "source": [
    "# 3. Lakukan Analisa Terhadap Halaman Web"
   ]
  },
  {
   "cell_type": "markdown",
   "metadata": {},
   "source": [
    "Pada langkah ini anda harus mempunyai kemampuan dasar html. Karena pada proses ini anda akan menganalisa bagian tag html mana yang mengandung konten yang diperlukan. Pada langkah ini anda bisa menggunkan browser chrome atau mozila untuk menganalisa halaman html nya. Code dibawah ini merupakan contoh hasil pengambilan data. "
   ]
  },
  {
   "cell_type": "code",
   "execution_count": 21,
   "metadata": {},
   "outputs": [
    {
     "name": "stdout",
     "output_type": "stream",
     "text": [
      "on January 21, 2014\n",
      "This is a beautiful, well constructed, and finely printed volume of the collected works of Sherlock Holmes.  These are my impressions of the book (mostly good!):THE PROS:*  It is a hardcover book with a cloth cover.  It has an elegant houndstooth pattern and simple cover design (as shown in the picture).  It also comes with a yellow ribbon bookmark and a slipcase for storage.  Overall I think it's a really attractive book that would certainly catch my eye on the shelf.  It's one of those book designs that makes you want to read it.*  The binding is cloth and seems to be very durable.  Cloth bindings are, of course, commonly used on big books, such as bibles and dictionaries, that are large and heavy and need to last a long time.  I think that's the goal with this volume as well.*  The book itself is quite large: approximately 10 inches tall, 7 inches wide, and nearly 3 inches thick.  It's also fairly heavy owing to its thinnish pages.  In my opinion, these attributes qualify as good things.  The entire collected works are here in one volume, which I can keep in a single place on my bookshelf, and use as a single volume when I want to take the book on a trip or read the stories to my children.  But I see that this is a matter of preference (see my \"cons\" section below).*  The text is printed on the small side, but I think it falls easily within the readable category (not always to be expected from a single volume edition of Sherlock!).  See my photo for a better look.*  The paper is nice, in my opinion.  It's not quite as thin or glossy as bible pages, but it's on the thin side.  Any thicker and it could never fit into a single volume.*  The price is right.  I briefly considered The Complete Sherlock Holmes (The Heirloom Collection), which is beautiful and seems nice (complete with illustrations), but it is $60 and seemed on the pricey side.  This Knickerbocker Classics edition is much more affordable, and has the added benefit of matching a large number of other collections of other famous novels.*  Best of all, it contains all 4 novels and 56 short stories -- the full collection, printed in order of publication.THE CONS:*  Many of the things I stated in PROS could also be CONS depending on individual preference.*  Some may prefer to have their Sherlock divided into tiny, lightweight paperbacks that they can stuff in a jacket pocket or purse to read on the bus or at the coffee shop.  This volume is not very suitable for that.  It's large and heavy and would be MOST awkward to read on the bus.*  Others may find the print to be too small.  I have attached a photograph to this product page so that you can get a better idea of how it looks.  I would say it's slightly smaller than most academic texts.  Personally, that doesn't bother me.  But older readers, children, or individuals with bad eyesight may want to look for one printed on a larger font.*  The book is NOT illustrated.  Again, to me, this is immaterial, but a large number of readers have become accustomed to Sherlock illustrations and take great care to find books that have certain iterations by certain illustrators, and so on.  Keep looking if you want lavish illustrations.  I think what you get in this edition is a plain, no-nonsense, quality binding for those interested merely in reading.Overall, I think it's a great edition for buyers with certain preferences.  If it meets your criteria, I recommend it with five stars.\n",
      "5.0 out of 5 stars\n",
      "on October 22, 2015\n",
      "Remember to look closely at the cover of all these \"complete\" Sherlock Holmes books.  With the wonders of capitalistically fueled competition, each edition of all 4 novels and 56 short stories by Sir Arthur Conan Doyle is beginning to look more and more similar.  Not all are created quite as equal as one would think, however.  Read on to find out more.In my quest to find the holy grail of Sherlock Holmes literature, aka; THE definitive collection of original, Conan Doyle penned stories, I actually ended up buying (and reading and rereading) 3 different versions.  My assessment of all 3 is as follows:1 - Sherlock Holmes: The Ultimate Collection - http://www.amazon.com/gp/product/B00DCD53C2/ref=x_gr_w_bb?ie=UTF8&tag=httpwwwgoodco-20&linkCode=as2&camp=1789&creative=9325&creativeASIN=B00DCD53C2&SubscriptionId=1MGPYB6YW3HWK55XCGG2)*  This is a perfectly adequate collection.  It DOES include all 4 novels and 56 short stories, but the book is all text, with no real illustrations to speak of.  When I first purchased it as an ebook, it did NOT include all the stories, but before I was even finished reading it, a simple Kindle update added all the rest, making it certifiably \"complete.\"  So if you see a review of The Ultimate Collection that says it isn't complete, it's probably just an old review.  At any rate, the  \"Film and Television Adaptations\" and Beyond the Canon\" synopsis sections at the end of the book are also included, but do not appear in the other Sherlock Holmes collections.  Kindle formatting isn't so good in this one, however, unfortunately.  Individual story/chapters aren't easily accessible from the drop down menu, as they are in other collected SH books.  My five star rating is for the writing itself, which is of course, practically peerless.2 - The Complete Sherlock Holmes: Volumes 1-4 (The Heirloom Collection) - http://smile.amazon.com/gp/product/B007PT1PEY?redirect=true&ref_=cm_cr_ryp_prd_ttl_sol_0*  The Heirloom Collection isn't the absolute best compendium of SH stories, but it is extremely good. Most importantly, it does contain all 4 novels and 56 short stories by Sir Arthur Conan Doyle, though not always in the exact same order as other editions -- making it a little confusing, when comparing different editions, to determine if all the stories are actually included (and they really are). Design wise, the graphic presentation (font choices, layout, etc) of this \"heirloom edition\" is superb -- making it clearly better in that regard than perhaps any of the \"complete\" Sherlock Holmes books currently available. The color illustrations aren't bad either, but there really aren't all that many for such a large book, filled with so many classic tales.  Good Kindle formatting overall, but not as good as it could have been.3 - The Complete Sherlock Holmes (Illustrated) (Top Five Classics Book 17) - http://www.amazon.com/gp/search/ref=x_gr_w_bb?keywords=9781938938160&index=books&linkCode=qs&tag=httpwwwgoodco-20* This is the one  actually being reviewed here.  And it's the absolute best of the three, in my opinion.  This Top Five Classics edition includes all 4 novels and 56 short stories by Arthur Conan Doyle.  Kindle formatting is superb, and best of all, most (if not all) of the classic illustrations that accompanied the original, first run publication of each story are included.  Some short stories even have up to three separate illustrations!  Pretty much all of the plates are reproduced in pencil/pen & ink drawn black and white, but the quality of the artwork is vastly superior to what appears in most other SH collections.So for my money, the Top Five Classics edition (#3) is hands down the very best one currently available.  Wish I'd known that before I purchased all three, but none of these collections were much more than $3 to $6 each, and the Sherlock Holmes: The Ultimate Collection was only 99 cents!  So if you don't care about illustrations, design quality, or good Kindle formatting, then you can certainly save a few bucks by choosing that particular version of the book (see #1 above).  On a final note, The Adventure of the Cardboard Box IS included in the Top Five Classics book, but appears in The Memoirs of Sherlock Holmes novel, as opposed to other editions that include it in the collected short story novel, His Last Bow.  It's a little confusing at first, with so many \"adventures\" to keep track of, but rest assured, the Cardboard Box and all the rest really ARE there.  So the game's afoot, no matter which edition you choose, but personally, if I had to do it all over again, I'd probably just buy the Top Five Classics edition.\n",
      "5.0 out of 5 stars\n",
      "on October 22, 2014\n",
      "The picture does no justice. I really like this product and have uploaded 2 pictures to show what it really looks like. It has that new book smell, thin pages, and it feels nice.\n",
      "5.0 out of 5 stars\n",
      "on June 27, 2016\n",
      "The one-star rating is for this Kindle edition, not for the stories themselves.  I love the Sherlock Holmes canon, and wanted a copy on my Kindle.  After purchasing this one, I actually returned it to get my $0.99 back because it doesn't have a table of contents.  It's a collection of 4 novels and 56 short stories, and there is no way to search through for a specific story.  Just start at the beginning and scroll forever.  It can't be that difficult to code in a table of contents.\n",
      "1.0 out of 5 stars\n",
      "on October 4, 2016\n",
      "I have thoroughly enjoyed reading the Sherlock Holmes mysteries by Sir Arthur Conan Doyle. I am an avid reader of the Special Agent Pendergast novels by Lincoln and Child and these stories appear to me to be the precursor for the Pendergast novels. The character of Holmes in much the same as that of Pendergast albeit somewhat less aloof. They are very well written and I am not bothered by the somewhat antiquated English prose that are employed in these stories. In fact, I find that I am expanding my reading vocabulary because of it. The length of these mysteries are just long enough to read in one sitting and I've read one each night before retiring. The characters are unique and well-developed and add much color to these tales. The stories include just enough detail to support the plot logically but do not bog the reader down with unnecessay description. Because of my reading of these tales, I have sought out other gothic-type mysteries that I hope will continue in the genre of Sherlock Holmes, i.e. \"The Father Brown Mysteries\", \"Wuthering Heights\", etc.\n",
      "5.0 out of 5 stars\n",
      "on October 22, 2015\n",
      "This, The Complete Sherlock Holmes: Volumes 1-4 (The Heirloom Collection), isn't the absolute best Sherlock Holmes collection, but it is extremely good.  Most importantly, it does contain all 4 novels and 56 short stories by Sir Arthur Conan Doyle, though not always in the exact same order as other editions -- making it a little confusing, when comparing different editions, to determine if all the stories are actually included (and they are).  Design wise, the graphic presentation  (font choices, layout, etc) of this \"heirloom edition\" is superb -- making it clearly better in that regard than perhaps any of the \"complete\" Sherlock Holmes books currently available.  The color illustrations aren't bad either, but there really aren't all that many for such a large book, filled with so many classic tales.In my quest to find the holy grail of Sherlock Holmes literature, aka; THE definitive collection of original, Conan Doyle penned stories, I actually ended up buying (and reading and rereading) 3 different versions.  My assessment of all 3 is as follows:1 - Sherlock Holmes: The Ultimate Collection  - http://www.amazon.com/gp/product/B00DCD53C2/ref=x_gr_w_bb?ie=UTF8&tag=httpwwwgoodco-20&linkCode=as2&camp=1789&creative=9325&creativeASIN=B00DCD53C2&SubscriptionId=1MGPYB6YW3HWK55XCGG2)*  This is a perfectly adequate collection.  It DOES include all 4 novels and 56 short stories, but the book is all text, with no real illustrations to speak of.  When I first purchased it as an ebook, it didn't include all the stories, but before I was even finished reading it, a simple Kindle update added all the rest, making it certifiably \"complete.\"  So if you see a review of The Ultimate Collection that says it isn't complete, it's probably just an old review.  At any rate, the  \"Film and Television Adaptations\" and Beyond the Canon\" synopsis sections at the end of the book are also included, but do not appear in the other Sherlock Holmes collections.  Kindle formatting isn't so good in this one, however, unfortunately.  Individual story/chapters aren't easily accessible from the drop down menu, as they are in other collected SH books.2 - The Complete Sherlock Holmes: Volumes 1-4 (The Heirloom Collection) - http://smile.amazon.com/gp/product/B007PT1PEY?redirect=true&ref_=cm_cr_ryp_prd_ttl_sol_0*  See above.  Again, probably not the best Sherlock Holmes collection, but graphics wise, it is certainly the most handsome.  It contains all 4 novels and 56 short stories by Arthur Conan Doyle.  Decent color illustrations, but fewer and further between than other editions.  Good Kindle formatting.3 - The Complete Sherlock Holmes (Illustrated) (Top Five Classics Book 17) - http://www.amazon.com/gp/search/ref=x_gr_w_bb?keywords=9781938938160&index=books&linkCode=qs&tag=httpwwwgoodco-20* The absolute best of the three, in my opinion.  This Top Five Classics edition includes all 4 novels and 56 short stories by Arthur Conan Doyle.  Kindle formatting is superb, and best of all, most (if not all) of the classic illustrations that accompanied the original, first run publication of each story are included.  Some short stories even have up to three separate illustrations!  Pretty much all of the plates are reproduced in pencil/pen & ink drawn black and white, but the quality of the artwork is vastly superior to what appears in most other SH collections.So for my money, the Top Five Classics edition (#3) is hands down the very best one currently available.  Wish I'd known that before I purchased all three, but none of these collections were much more than $3 to $6 each, and the Sherlock Holmes: The Ultimate Collection was only 99 cents!  So if you don't care about illustrations, design quality, or good Kindle formatting, then you can certainly save a few bucks by choosing that particular version of the book (see #1 above).  On a final note, The Adventure of the Cardboard Box IS included in the Top Five Classics book, but appears in The Memoirs of Sherlock Holmes novel, as opposed to other editions that include it in the collected short story novel, His Last Bow.  It's a little confusing at first, with so many \"adventures\" to keep track of, but rest assured, the Cardboard Box and all the rest really ARE there.  So the game's afoot, no matter which edition you choose, but personally, if I had to do it all over again, I'd probably just buy the Top Five Classics edition.\n",
      "5.0 out of 5 stars\n",
      "on November 15, 2015\n",
      "I was looking for a complete Holmes collection, and another reviewer pointed to this one as a good choice (referring to the Kindle version). I saw there was a print version of the same collection, and wanting a good series of stories to read at bedtime to avoid screens, I ordered the book without taking a good look at it. Plus, I saw a review had an image of two volumes... But the one I was ordering turned out to be one. One massive book, the size of a college textbook. This would not be so bad, if the font were large enough to read comfortably (I'm only 31) or arranged in columns. Reading tiny print that runs across such large pages is difficult, as your eyes have trouble tracking down to the next line correctly. The pages are not numbered. In addition, the \"illustrations\" are complete rubbish.Im just thankful that Amazon is so wonderful about returns. I may have to visit a brick and mortar store or do some online detective work to find a good printed set.I strongly discourage you from buying this printed volume. It would be much easier to read the Kindle version on a phone screen than read this monstrosity.\n",
      "1.0 out of 5 stars\n",
      "on November 14, 2016\n",
      "You can never go wrong with Sherlock Holmes.. Die hard fan here.. So much so that i have read the entire collection atleast 10 times now.. It never ceases to amaze me still.. Wife is an avid reader and goes \"Why would you read it like a text book trying to cramp it up for some exam\".. Well, what does she know? :DPros --1. Character development -- Sherlock Holmes's character has been developed with a lot of detail and attention. You hardly know much about his family and roots and as a person it almost feels like i meet him almost every other day.. That engrossing (partly one of the major reasons why i hated Robert Downey Jr in the Sherlock holmes movie).. Dr Watson's been given a lot of attention too and he plays an integral part in being the narrator for the entire storyline.2. Mystery plots -- a simple theft / murder situation is resolved with such unconventional methods that it brings a smile of satisfaction on the reader s face, nodding at the same time in approval of the detection methods. Sometimes, these do feel far fetched (Ex: identifying person s area of living based on the mud on the shoes) but i would amount that to having extensive knowlegde in geology (i might not connect with it at times though).3. Gripping -- one of the most important reasons for repetitive reading.. the story plots are so very well laid out that despite remembering what happens eventually the reader keeps reading just to visualize and live in that world.Cons --1. Seriously?.. wouldnt have read it 10 times else.. (lets just say this is like a kid to whose faults a mother always turns a blind eye to)..2. this particular book on kindle does not list the individual stories in the content list.. There is double indentation and Kindle cannot resolve it apparently. Big Big disappointment but i there are other Sherlock Holmes books that handle that issue well.\n",
      "5.0 out of 5 stars\n",
      "on December 29, 2016\n",
      "I am very disappointed with the cover. The copy I received looks nothing like the one in the photo. Mine lacks the red and is simply a brown on brown pattern that is not the same plaid. I am considering returning it because I was truly wanting that edition in the photo. There is no need for me to pay more than about $5.00 because these are all available as simple paperbacks in the public domain.\n",
      "2.0 out of 5 stars\n",
      "on August 10, 2017\n",
      "Everybody knows him -- the pipe-smoking detective on Baker Street (with or without the movie-added deerstalker), who is able to deduce all sorts of things just by glancing at a person.But never have Sherlock Holmes' mysteries been as gripping or intricate as in the original tales by Sir Arthur Conan Doyle, who created the character in the first place. \"The Complete Sherlock Holmes\" brings together the dozens of Sherlock Holmes short stories and full-length novels, full of bizarre puzzles that only Holmes has the psychological adeptness and logical deduction to unravel (with the ever-valiant help of Watson, that is).Having done his duty in the army, John Watson returns to England and starts searching for a place to live in London. A friend steers him to 221B Baker Street, home of the eccentric detective Sherlock Holmes, who is searching for a roommate who won't mind his strange habits -- and fortunately, he immediately dazzles Watson with his deductive abilities and the breadth of his knowledge. When a poisoned corpse is found, Watson gets to see Holmes' astonishing detective skills in action.Among the many stories that follow: a blackmail letter, a blue jewel hidden in a Christmas turkey, the \"speckled band,\" an ancient riddle that only Holmes can solve, a young woman given a surreally weird job, a spectral dog haunting the moors, shattered Napoleonic busts, a string of stick figures, a boy kidnapped from his school, the disappearance of a race horse, a \"vampire\" woman in Sussex, a rare tropical illness, a stolen treasure in India, and of course Holmes' bloodcurdling encounter with the malevolent Professor Moriarty and his equally cruel compatriots.Sherlock Holmes mysteries come in two types:1. The case is completely baffling, and Holmes is needed to unravel the knot of obscure clues.2. The case seems straightforward, but Holmes is needed to connect seemingly unrelated clues to the crime in order to find the REAL perpetrator.There are plenty of both kinds in \"The Complete Sherlock Holmes,\" with dozens of cases that require Holmes' unique detecting skills -- it can be something as simple as locating a letter, or something as complex as foiling a years-long pact of revenge over the course of an entire book. Doyle's stately, dignified prose is heightened by moments of excitement or horror (\" It swelled up louder and louder, a hoarse yell of pain and fear and anger all mingled in the one dreadful shriek\"), and he wove in a lot of human psychology into Holmes' cases.Holmes himself... is Holmes. Doyle didn't like his detective much, but Sherlock's knife-edged intellect and fascination with puzzles and esoterica are strangely hypnotic -- even if you wouldn't like to be roomies with the guy, it would be amazing just to sit and watch him work. Watson is the perfect counterpoint for Holmes: he's not a genius but is definitely intelligent, warm-hearted and capable, and we see his own deductive abilities develop as Holmes tutors him.Sherlock Holmes is perhaps the best-known detective in the world, and \"The Complete Sherlock Holmes\" is an excellent way to get to know the Great Detective. Spellbinding, smart and gripping.\n",
      "5.0 out of 5 stars\n"
     ]
    }
   ],
   "source": [
    "# mengambil tag html yang mengandung konten yang dibutuhkan.\n",
    "# terdapat dua parameter pada soup.find_all (taghtml, namaclass)\n",
    "crawl = soup.find_all(\"div\",\"a-section review\")\n",
    "\n",
    "# crawl merupakan hasil pencarian yang membentuh sebuah list untuk itu untuk mengambi isi didalamnya menggunakan looping\n",
    "# terdapat dua parameter pada method find (taghtml, namaclass)\n",
    "for cw in crawl:\n",
    "    print(cw.find(\"span\",\"a-size-base a-color-secondary review-date\").get_text())\n",
    "    print(cw.find(\"span\",\"a-size-base review-text\").get_text())\n",
    "    print(cw.find(\"span\",\"a-icon-alt\").get_text())"
   ]
  },
  {
   "cell_type": "markdown",
   "metadata": {},
   "source": [
    "# 3 Simpan dalam Bentuk DataFrame"
   ]
  },
  {
   "cell_type": "markdown",
   "metadata": {},
   "source": [
    "Untuk mempermudah proses selanjutnya hasil crawling data tadi dapat disimpan kedalam DataFrame. Pada tahapan ini anda dapat mengimport library pandas"
   ]
  },
  {
   "cell_type": "code",
   "execution_count": 19,
   "metadata": {},
   "outputs": [
    {
     "name": "stdout",
     "output_type": "stream",
     "text": [
      "                   date                                             review  \\\n",
      "0   on January 21, 2014  This is a beautiful, well constructed, and fin...   \n",
      "1   on October 22, 2015  Remember to look closely at the cover of all t...   \n",
      "2   on October 22, 2014  The picture does no justice. I really like thi...   \n",
      "3      on June 27, 2016  The one-star rating is for this Kindle edition...   \n",
      "4    on October 4, 2016  I have thoroughly enjoyed reading the Sherlock...   \n",
      "5   on October 22, 2015  This, The Complete Sherlock Holmes: Volumes 1-...   \n",
      "6  on November 15, 2015  I was looking for a complete Holmes collection...   \n",
      "7  on November 14, 2016  You can never go wrong with Sherlock Holmes.. ...   \n",
      "8  on December 29, 2016  I am very disappointed with the cover. The cop...   \n",
      "9    on August 10, 2017  Everybody knows him -- the pipe-smoking detect...   \n",
      "\n",
      "               rating  \n",
      "0  5.0 out of 5 stars  \n",
      "1  5.0 out of 5 stars  \n",
      "2  5.0 out of 5 stars  \n",
      "3  1.0 out of 5 stars  \n",
      "4  5.0 out of 5 stars  \n",
      "5  5.0 out of 5 stars  \n",
      "6  1.0 out of 5 stars  \n",
      "7  5.0 out of 5 stars  \n",
      "8  2.0 out of 5 stars  \n",
      "9  5.0 out of 5 stars  \n"
     ]
    }
   ],
   "source": [
    "import pandas as pd\n",
    "# buat list untuk menyimpan hasil \n",
    "datelist =[]\n",
    "reviewlist =[]\n",
    "ratinglist =[]\n",
    "# lakukan looping untuk pengambilan data\n",
    "crawl = soup.find_all(\"div\",\"a-section review\")\n",
    "for cw in crawl:\n",
    "    date = cw.find(\"span\",\"a-size-base a-color-secondary review-date\").get_text()\n",
    "    review = cw.find(\"span\",\"a-size-base review-text\").get_text()\n",
    "    rating = cw.find(\"span\",\"a-icon-alt\").get_text()\n",
    "    # masukan ke list\n",
    "    datelist.append(date)\n",
    "    reviewlist.append(review)\n",
    "    ratinglist.append(rating)\n",
    "\n",
    "# simpan kedalam DataFrame\n",
    "review_dictionary ={\"date\":datelist,\"review\":reviewlist,\"rating\":ratinglist}\n",
    "df = pd.DataFrame(review_dictionary,columns=[\"date\",\"review\",\"rating\"])\n",
    "print(df)          "
   ]
  },
  {
   "cell_type": "code",
   "execution_count": 22,
   "metadata": {},
   "outputs": [
    {
     "data": {
      "text/html": [
       "<div>\n",
       "<style>\n",
       "    .dataframe thead tr:only-child th {\n",
       "        text-align: right;\n",
       "    }\n",
       "\n",
       "    .dataframe thead th {\n",
       "        text-align: left;\n",
       "    }\n",
       "\n",
       "    .dataframe tbody tr th {\n",
       "        vertical-align: top;\n",
       "    }\n",
       "</style>\n",
       "<table border=\"1\" class=\"dataframe\">\n",
       "  <thead>\n",
       "    <tr style=\"text-align: right;\">\n",
       "      <th></th>\n",
       "      <th>date</th>\n",
       "      <th>review</th>\n",
       "      <th>rating</th>\n",
       "    </tr>\n",
       "  </thead>\n",
       "  <tbody>\n",
       "    <tr>\n",
       "      <th>0</th>\n",
       "      <td>on January 21, 2014</td>\n",
       "      <td>This is a beautiful, well constructed, and fin...</td>\n",
       "      <td>5.0 out of 5 stars</td>\n",
       "    </tr>\n",
       "    <tr>\n",
       "      <th>1</th>\n",
       "      <td>on October 22, 2015</td>\n",
       "      <td>Remember to look closely at the cover of all t...</td>\n",
       "      <td>5.0 out of 5 stars</td>\n",
       "    </tr>\n",
       "    <tr>\n",
       "      <th>2</th>\n",
       "      <td>on October 22, 2014</td>\n",
       "      <td>The picture does no justice. I really like thi...</td>\n",
       "      <td>5.0 out of 5 stars</td>\n",
       "    </tr>\n",
       "    <tr>\n",
       "      <th>3</th>\n",
       "      <td>on June 27, 2016</td>\n",
       "      <td>The one-star rating is for this Kindle edition...</td>\n",
       "      <td>1.0 out of 5 stars</td>\n",
       "    </tr>\n",
       "    <tr>\n",
       "      <th>4</th>\n",
       "      <td>on October 4, 2016</td>\n",
       "      <td>I have thoroughly enjoyed reading the Sherlock...</td>\n",
       "      <td>5.0 out of 5 stars</td>\n",
       "    </tr>\n",
       "    <tr>\n",
       "      <th>5</th>\n",
       "      <td>on October 22, 2015</td>\n",
       "      <td>This, The Complete Sherlock Holmes: Volumes 1-...</td>\n",
       "      <td>5.0 out of 5 stars</td>\n",
       "    </tr>\n",
       "    <tr>\n",
       "      <th>6</th>\n",
       "      <td>on November 15, 2015</td>\n",
       "      <td>I was looking for a complete Holmes collection...</td>\n",
       "      <td>1.0 out of 5 stars</td>\n",
       "    </tr>\n",
       "    <tr>\n",
       "      <th>7</th>\n",
       "      <td>on November 14, 2016</td>\n",
       "      <td>You can never go wrong with Sherlock Holmes.. ...</td>\n",
       "      <td>5.0 out of 5 stars</td>\n",
       "    </tr>\n",
       "    <tr>\n",
       "      <th>8</th>\n",
       "      <td>on December 29, 2016</td>\n",
       "      <td>I am very disappointed with the cover. The cop...</td>\n",
       "      <td>2.0 out of 5 stars</td>\n",
       "    </tr>\n",
       "    <tr>\n",
       "      <th>9</th>\n",
       "      <td>on August 10, 2017</td>\n",
       "      <td>Everybody knows him -- the pipe-smoking detect...</td>\n",
       "      <td>5.0 out of 5 stars</td>\n",
       "    </tr>\n",
       "  </tbody>\n",
       "</table>\n",
       "</div>"
      ],
      "text/plain": [
       "                   date                                             review  \\\n",
       "0   on January 21, 2014  This is a beautiful, well constructed, and fin...   \n",
       "1   on October 22, 2015  Remember to look closely at the cover of all t...   \n",
       "2   on October 22, 2014  The picture does no justice. I really like thi...   \n",
       "3      on June 27, 2016  The one-star rating is for this Kindle edition...   \n",
       "4    on October 4, 2016  I have thoroughly enjoyed reading the Sherlock...   \n",
       "5   on October 22, 2015  This, The Complete Sherlock Holmes: Volumes 1-...   \n",
       "6  on November 15, 2015  I was looking for a complete Holmes collection...   \n",
       "7  on November 14, 2016  You can never go wrong with Sherlock Holmes.. ...   \n",
       "8  on December 29, 2016  I am very disappointed with the cover. The cop...   \n",
       "9    on August 10, 2017  Everybody knows him -- the pipe-smoking detect...   \n",
       "\n",
       "               rating  \n",
       "0  5.0 out of 5 stars  \n",
       "1  5.0 out of 5 stars  \n",
       "2  5.0 out of 5 stars  \n",
       "3  1.0 out of 5 stars  \n",
       "4  5.0 out of 5 stars  \n",
       "5  5.0 out of 5 stars  \n",
       "6  1.0 out of 5 stars  \n",
       "7  5.0 out of 5 stars  \n",
       "8  2.0 out of 5 stars  \n",
       "9  5.0 out of 5 stars  "
      ]
     },
     "execution_count": 22,
     "metadata": {},
     "output_type": "execute_result"
    }
   ],
   "source": [
    "#hasil dalam bentuk tabel\n",
    "df"
   ]
  },
  {
   "cell_type": "code",
   "execution_count": null,
   "metadata": {
    "collapsed": true
   },
   "outputs": [],
   "source": []
  }
 ],
 "metadata": {
  "kernelspec": {
   "display_name": "Python 3",
   "language": "python",
   "name": "python3"
  },
  "language_info": {
   "codemirror_mode": {
    "name": "ipython",
    "version": 3
   },
   "file_extension": ".py",
   "mimetype": "text/x-python",
   "name": "python",
   "nbconvert_exporter": "python",
   "pygments_lexer": "ipython3",
   "version": "3.6.3"
  }
 },
 "nbformat": 4,
 "nbformat_minor": 2
}
